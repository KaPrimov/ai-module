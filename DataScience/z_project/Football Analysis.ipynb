{
 "cells": [
  {
   "cell_type": "code",
   "execution_count": 1,
   "metadata": {},
   "outputs": [],
   "source": [
    "%matplotlib inline"
   ]
  },
  {
   "cell_type": "code",
   "execution_count": 2,
   "metadata": {},
   "outputs": [],
   "source": [
    "import numpy as np\n",
    "import pandas as pd\n",
    "import matplotlib.pyplot as plt"
   ]
  },
  {
   "cell_type": "markdown",
   "metadata": {},
   "source": [
    "# Study on the Football Statistics and the Correctness of the Odds\n",
    "### by Kalin Primov"
   ]
  },
  {
   "cell_type": "markdown",
   "metadata": {},
   "source": [
    "## Abstract\n",
    "......."
   ]
  },
  {
   "cell_type": "markdown",
   "metadata": {},
   "source": [
    "## Introduction\n",
    "The goal of this study is to see to what extend the odds, which bookmakers assign to games can be used in predicting the final outcome. The data with the odds is taken from *oddsportal* and the data with the games is taken from various sources. Also would be measured the accuracy of odds such as both teams to score, more or less than 2.5 goals and both team to or not to score. The data is for the five major leagues - La Liga, Premier League, Bundesliga, Ligue 1 and Seria A and we will see where and how the predictions and reality are different for the leagues."
   ]
  },
  {
   "cell_type": "markdown",
   "metadata": {},
   "source": [
    "## Data Manipulation"
   ]
  },
  {
   "cell_type": "markdown",
   "metadata": {},
   "source": [
    "### Data Collection\n",
    "The data is divided into 2 datasets in the '''ginf.csv''' is the data from the _odsportal_ with the odds for the games. The columns in the dataset are:\n",
    "* id_odsp - unique game identifier\n",
    "* link_odsp - link to oddsportal page\n",
    "* adv_stats - boolean if the game has detailed event data\n",
    "* data\n",
    "* league\n",
    "* season\n",
    "* ht - home team\n",
    "* at - away team\n",
    "* fthg - full time home goals\n",
    "* ftag - full time away goals\n",
    "* odd_h - home win odds\n",
    "* odd_d - draw odds\n",
    "* odd_a - away win odds\n",
    "* odd_over - over 2.5 goals odds\n",
    "* odd_under - under 2.5 goals odds\n",
    "* odd_bts - both teams to score odds\n",
    "* odd_bts_n - both teams not to score odds\n",
    "In the ```events.csv``` is the data from the events. We will use it to compare it with the data from ```ginf.csv``` and see if there are other factor, which affect games. The columns in the dataset are:\n",
    "* id_odsp - unique game identifier\n",
    "* id_event - unique identifier of event (id_odsp + sort_order)\n",
    "* sort_order - chronological sequence of events in a game\n",
    "* time - minutes of the game\n",
    "* text - text commentary\n",
    "* event_type - primary event. 11 unique events (1-Attempt(shot), 2-Corner, 3-Foul, 4-Yellow Card, 5-Second yellow card, 6-(Straight) red card, 7-Substitution, 8-Free kick won, 9-Offside, 10-Hand Ball, 11-Penalty conceded)\n",
    "* event_type2 - secondary event. 4 unique events (12 - Key Pass, 13 - Failed through ball, 14-Sending off, 15-Own goal)\n",
    "* side - 1-Home, 2-Away\n",
    "* event_team - team that produced the event\n",
    "* opponent - team that the event happened against\n",
    "* player - name of the player involved in the main event\n",
    "* player2 - name of player involved in secondary event\n",
    "* player_in - substitude in\n",
    "* player_out - substitude out\n",
    "* shot_place - 13 possible placements of the shot\n",
    "* shot_outcome (1-On target, 2-Off target, 3-Blocked, 4-Hit the post)\n",
    "* is_goal\n",
    "* location - location on the pitch\n",
    "* bodypart - (1- right foot, 2-left foot, 3-head)\n",
    "* assist_method\n",
    "* situation - 1-Open Play, 2-Set piece (excluding Direct Free kicks), 3-Corner, 4-Free kick\n",
    "* fast_break"
   ]
  },
  {
   "cell_type": "code",
   "execution_count": 3,
   "metadata": {},
   "outputs": [
    {
     "data": {
      "text/plain": [
       "(10112, 18)"
      ]
     },
     "execution_count": 3,
     "metadata": {},
     "output_type": "execute_result"
    }
   ],
   "source": [
    "odds_data = pd.read_csv('data/ginf.csv')\n",
    "print(odds_data.shape)\n",
    "events_data = pd.read_csv('d')"
   ]
  },
  {
   "cell_type": "code",
   "execution_count": null,
   "metadata": {},
   "outputs": [],
   "source": []
  }
 ],
 "metadata": {
  "kernelspec": {
   "display_name": "Python 3",
   "language": "python",
   "name": "python3"
  },
  "language_info": {
   "codemirror_mode": {
    "name": "ipython",
    "version": 3
   },
   "file_extension": ".py",
   "mimetype": "text/x-python",
   "name": "python",
   "nbconvert_exporter": "python",
   "pygments_lexer": "ipython3",
   "version": "3.7.3"
  }
 },
 "nbformat": 4,
 "nbformat_minor": 2
}
