{
 "cells": [
  {
   "cell_type": "code",
   "execution_count": 1,
   "metadata": {},
   "outputs": [],
   "source": [
    "%matplotlib inline"
   ]
  },
  {
   "cell_type": "code",
   "execution_count": 2,
   "metadata": {},
   "outputs": [],
   "source": [
    "import numpy as np\n",
    "import pandas as pd\n",
    "import matplotlib.pyplot as plt\n",
    "\n",
    "from sklearn.model_selection import train_test_split, KFold, cross_val_score\n",
    "from sklearn.linear_model import LogisticRegression\n",
    "from sklearn.metrics import accuracy_score, confusion_matrix\n",
    "from sklearn.tree import DecisionTreeClassifier\n",
    "from sklearn.neighbors import KNeighborsClassifier\n",
    "from sklearn import svm"
   ]
  },
  {
   "cell_type": "markdown",
   "metadata": {},
   "source": [
    "# Study on the Football Statistics and the Odds\n",
    "### by Kalin Primov"
   ]
  },
  {
   "cell_type": "markdown",
   "metadata": {},
   "source": [
    "## Abstract\n",
    "This paper will study how and when goals are scored and after that will try to compare the odds, which bookies give to games with the real results. In the final part we will use couple of models to predict results."
   ]
  },
  {
   "cell_type": "markdown",
   "metadata": {},
   "source": [
    "## Introduction\n",
    "The statistics and football have been getting closer and closer during the past decade. In this paper we will use some ot the statistics, which are collected from _oddsportal_ to answer some interesting questions. When are most goals scored? Where and which are the beset free-kick takers? Are the odds justify and is there a better way to predict scores? The data gives us a lot of possibilities, but we will use small portion of it, so we can answer the given question."
   ]
  },
  {
   "cell_type": "markdown",
   "metadata": {},
   "source": [
    "## Data Manipulation"
   ]
  },
  {
   "cell_type": "markdown",
   "metadata": {},
   "source": [
    "### Data Collection\n",
    "The data is divided into 2 datasets in the '''ginf.csv''' is the data from the _oddsportal_ with the odds for the games. The columns in the dataset are:\n",
    "* id_odsp - unique game identifier\n",
    "* link_odsp - link to oddsportal page\n",
    "* adv_stats - boolean if the game has detailed event data\n",
    "* data\n",
    "* league\n",
    "* country\n",
    "* season\n",
    "* ht - home team\n",
    "* at - away team\n",
    "* fthg - full time home goals\n",
    "* ftag - full time away goals\n",
    "* odd_h - home win odds\n",
    "* odd_d - draw odds\n",
    "* odd_a - away win odds\n",
    "* odd_over - over 2.5 goals odds\n",
    "* odd_under - under 2.5 goals odds\n",
    "* odd_bts - both teams to score odds\n",
    "* odd_bts_n - both teams not to score odds\n",
    "\n",
    "In the ```events.csv``` is the data from the events. We will use it to compare it with the data from ```ginf.csv``` and see if there are other factor, which affect games. The columns in the dataset are:\n",
    "\n",
    "* id_odsp - unique game identifier\n",
    "* id_event - unique identifier of event (id_odsp + sort_order)\n",
    "* sort_order - chronological sequence of events in a game\n",
    "* time - minutes of the game\n",
    "* text - text commentary\n",
    "* event_type - primary event. 11 unique events\n",
    "* event_type2 - secondary event. 4 unique events\n",
    "* side - 1-Home, 2-Away\n",
    "* event_team - team that produced the event\n",
    "* opponent - team that the event happened against\n",
    "* player - name of the player involved in the main event\n",
    "* player2 - name of player involved in secondary event\n",
    "* player_in - substitude in\n",
    "* player_out - substitude out\n",
    "* shot_place - 13 possible placements of the shot\n",
    "* shot_outcome\n",
    "* is_goal\n",
    "* location - location on the pitch\n",
    "* bodypart\n",
    "* assist_method\n",
    "* situation\n",
    "* fast_break"
   ]
  },
  {
   "cell_type": "code",
   "execution_count": 3,
   "metadata": {},
   "outputs": [],
   "source": [
    "odds_data = pd.read_csv('data/ginf.csv')\n",
    "events_data = pd.read_csv('data/events.csv')\n",
    "\n",
    "odds_data = odds_data.drop(['link_odsp','adv_stats','season', 'odd_over', 'odd_under', 'odd_bts', 'odd_bts_n'], axis=1)\n",
    "events_data = events_data.drop(['fast_break', 'sort_order', 'assist_method', 'player2', 'text', \n",
    "                                'player_in', 'player_out'], axis=1)"
   ]
  },
  {
   "cell_type": "code",
   "execution_count": 4,
   "metadata": {},
   "outputs": [],
   "source": [
    "odds_data.head()\n",
    "odds_data.columns = ['id','data','league', 'country','home_team','away_team','home_goals',\n",
    "                     'away_goals','odd_home','odd_draw','odd_away']\n",
    "events_data.columns = ['id_game','id_event', 'time', 'primary_event', 'secondary_event',\n",
    "                     'side', 'event_team', 'opponent', 'player', 'show_place', 'show_outcome',\n",
    "                     'is_goal', 'location', 'bodypart', 'situation']"
   ]
  },
  {
   "cell_type": "markdown",
   "metadata": {},
   "source": [
    "Most of the stats are given index and the index corresponds to the dictionary. In the dictionary is the full meaning if the values in the columns."
   ]
  },
  {
   "cell_type": "code",
   "execution_count": 5,
   "metadata": {},
   "outputs": [],
   "source": [
    "encoding = pd.read_csv('data/dictionary.txt', sep='\\t', index_col=0, names=('id', 'event_type'), header=None)\n",
    "primary_event=encoding[1:12]\n",
    "secondary_event=encoding[14:18]\n",
    "side=encoding[19:21]\n",
    "shot_place=encoding[22:35]\n",
    "shot_outcome=encoding[36:40]\n",
    "location=encoding[41:60]\n",
    "bodypart=encoding[61:64]\n",
    "assist_method=encoding[65:70]\n",
    "situition=encoding[71:75]"
   ]
  },
  {
   "cell_type": "code",
   "execution_count": 6,
   "metadata": {},
   "outputs": [
    {
     "data": {
      "text/html": [
       "<div>\n",
       "<style scoped>\n",
       "    .dataframe tbody tr th:only-of-type {\n",
       "        vertical-align: middle;\n",
       "    }\n",
       "\n",
       "    .dataframe tbody tr th {\n",
       "        vertical-align: top;\n",
       "    }\n",
       "\n",
       "    .dataframe thead th {\n",
       "        text-align: right;\n",
       "    }\n",
       "</style>\n",
       "<table border=\"1\" class=\"dataframe\">\n",
       "  <thead>\n",
       "    <tr style=\"text-align: right;\">\n",
       "      <th></th>\n",
       "      <th>event_type</th>\n",
       "    </tr>\n",
       "    <tr>\n",
       "      <th>id</th>\n",
       "      <th></th>\n",
       "    </tr>\n",
       "  </thead>\n",
       "  <tbody>\n",
       "    <tr>\n",
       "      <th>0</th>\n",
       "      <td>Announcement</td>\n",
       "    </tr>\n",
       "    <tr>\n",
       "      <th>1</th>\n",
       "      <td>Attempt</td>\n",
       "    </tr>\n",
       "    <tr>\n",
       "      <th>2</th>\n",
       "      <td>Corner</td>\n",
       "    </tr>\n",
       "    <tr>\n",
       "      <th>3</th>\n",
       "      <td>Foul</td>\n",
       "    </tr>\n",
       "    <tr>\n",
       "      <th>4</th>\n",
       "      <td>Yellow card</td>\n",
       "    </tr>\n",
       "    <tr>\n",
       "      <th>5</th>\n",
       "      <td>Second yellow card</td>\n",
       "    </tr>\n",
       "    <tr>\n",
       "      <th>6</th>\n",
       "      <td>Red card</td>\n",
       "    </tr>\n",
       "    <tr>\n",
       "      <th>7</th>\n",
       "      <td>Substitution</td>\n",
       "    </tr>\n",
       "    <tr>\n",
       "      <th>8</th>\n",
       "      <td>Free kick won</td>\n",
       "    </tr>\n",
       "    <tr>\n",
       "      <th>9</th>\n",
       "      <td>Offside</td>\n",
       "    </tr>\n",
       "    <tr>\n",
       "      <th>10</th>\n",
       "      <td>Hand ball</td>\n",
       "    </tr>\n",
       "  </tbody>\n",
       "</table>\n",
       "</div>"
      ],
      "text/plain": [
       "            event_type\n",
       "id                    \n",
       "0         Announcement\n",
       "1              Attempt\n",
       "2               Corner\n",
       "3                 Foul\n",
       "4          Yellow card\n",
       "5   Second yellow card\n",
       "6             Red card\n",
       "7         Substitution\n",
       "8        Free kick won\n",
       "9              Offside\n",
       "10           Hand ball"
      ]
     },
     "execution_count": 6,
     "metadata": {},
     "output_type": "execute_result"
    }
   ],
   "source": [
    "primary_event"
   ]
  },
  {
   "cell_type": "code",
   "execution_count": 7,
   "metadata": {},
   "outputs": [
    {
     "data": {
      "text/html": [
       "<div>\n",
       "<style scoped>\n",
       "    .dataframe tbody tr th:only-of-type {\n",
       "        vertical-align: middle;\n",
       "    }\n",
       "\n",
       "    .dataframe tbody tr th {\n",
       "        vertical-align: top;\n",
       "    }\n",
       "\n",
       "    .dataframe thead th {\n",
       "        text-align: right;\n",
       "    }\n",
       "</style>\n",
       "<table border=\"1\" class=\"dataframe\">\n",
       "  <thead>\n",
       "    <tr style=\"text-align: right;\">\n",
       "      <th></th>\n",
       "      <th>event_type</th>\n",
       "    </tr>\n",
       "    <tr>\n",
       "      <th>id</th>\n",
       "      <th></th>\n",
       "    </tr>\n",
       "  </thead>\n",
       "  <tbody>\n",
       "    <tr>\n",
       "      <th>12</th>\n",
       "      <td>Key Pass</td>\n",
       "    </tr>\n",
       "    <tr>\n",
       "      <th>13</th>\n",
       "      <td>Failed through ball</td>\n",
       "    </tr>\n",
       "    <tr>\n",
       "      <th>14</th>\n",
       "      <td>Sending off</td>\n",
       "    </tr>\n",
       "    <tr>\n",
       "      <th>15</th>\n",
       "      <td>Own goal</td>\n",
       "    </tr>\n",
       "  </tbody>\n",
       "</table>\n",
       "</div>"
      ],
      "text/plain": [
       "             event_type\n",
       "id                     \n",
       "12             Key Pass\n",
       "13  Failed through ball\n",
       "14          Sending off\n",
       "15             Own goal"
      ]
     },
     "execution_count": 7,
     "metadata": {},
     "output_type": "execute_result"
    }
   ],
   "source": [
    "secondary_event"
   ]
  },
  {
   "cell_type": "code",
   "execution_count": 8,
   "metadata": {},
   "outputs": [
    {
     "data": {
      "text/html": [
       "<div>\n",
       "<style scoped>\n",
       "    .dataframe tbody tr th:only-of-type {\n",
       "        vertical-align: middle;\n",
       "    }\n",
       "\n",
       "    .dataframe tbody tr th {\n",
       "        vertical-align: top;\n",
       "    }\n",
       "\n",
       "    .dataframe thead th {\n",
       "        text-align: right;\n",
       "    }\n",
       "</style>\n",
       "<table border=\"1\" class=\"dataframe\">\n",
       "  <thead>\n",
       "    <tr style=\"text-align: right;\">\n",
       "      <th></th>\n",
       "      <th>event_type</th>\n",
       "    </tr>\n",
       "    <tr>\n",
       "      <th>id</th>\n",
       "      <th></th>\n",
       "    </tr>\n",
       "  </thead>\n",
       "  <tbody>\n",
       "    <tr>\n",
       "      <th>1</th>\n",
       "      <td>Home</td>\n",
       "    </tr>\n",
       "    <tr>\n",
       "      <th>2</th>\n",
       "      <td>Away</td>\n",
       "    </tr>\n",
       "  </tbody>\n",
       "</table>\n",
       "</div>"
      ],
      "text/plain": [
       "   event_type\n",
       "id           \n",
       "1        Home\n",
       "2        Away"
      ]
     },
     "execution_count": 8,
     "metadata": {},
     "output_type": "execute_result"
    }
   ],
   "source": [
    "side"
   ]
  },
  {
   "cell_type": "code",
   "execution_count": 9,
   "metadata": {},
   "outputs": [
    {
     "data": {
      "text/html": [
       "<div>\n",
       "<style scoped>\n",
       "    .dataframe tbody tr th:only-of-type {\n",
       "        vertical-align: middle;\n",
       "    }\n",
       "\n",
       "    .dataframe tbody tr th {\n",
       "        vertical-align: top;\n",
       "    }\n",
       "\n",
       "    .dataframe thead th {\n",
       "        text-align: right;\n",
       "    }\n",
       "</style>\n",
       "<table border=\"1\" class=\"dataframe\">\n",
       "  <thead>\n",
       "    <tr style=\"text-align: right;\">\n",
       "      <th></th>\n",
       "      <th>event_type</th>\n",
       "    </tr>\n",
       "    <tr>\n",
       "      <th>id</th>\n",
       "      <th></th>\n",
       "    </tr>\n",
       "  </thead>\n",
       "  <tbody>\n",
       "    <tr>\n",
       "      <th>1</th>\n",
       "      <td>Bit too high</td>\n",
       "    </tr>\n",
       "    <tr>\n",
       "      <th>2</th>\n",
       "      <td>Blocked</td>\n",
       "    </tr>\n",
       "    <tr>\n",
       "      <th>3</th>\n",
       "      <td>Bottom left corner</td>\n",
       "    </tr>\n",
       "    <tr>\n",
       "      <th>4</th>\n",
       "      <td>Bottom right corner</td>\n",
       "    </tr>\n",
       "    <tr>\n",
       "      <th>5</th>\n",
       "      <td>Centre of the goal</td>\n",
       "    </tr>\n",
       "    <tr>\n",
       "      <th>6</th>\n",
       "      <td>High and wide</td>\n",
       "    </tr>\n",
       "    <tr>\n",
       "      <th>7</th>\n",
       "      <td>Hits the bar</td>\n",
       "    </tr>\n",
       "    <tr>\n",
       "      <th>8</th>\n",
       "      <td>Misses to the left</td>\n",
       "    </tr>\n",
       "    <tr>\n",
       "      <th>9</th>\n",
       "      <td>Misses to the right</td>\n",
       "    </tr>\n",
       "    <tr>\n",
       "      <th>10</th>\n",
       "      <td>Too high</td>\n",
       "    </tr>\n",
       "    <tr>\n",
       "      <th>11</th>\n",
       "      <td>Top centre of the goal</td>\n",
       "    </tr>\n",
       "    <tr>\n",
       "      <th>12</th>\n",
       "      <td>Top left corner</td>\n",
       "    </tr>\n",
       "    <tr>\n",
       "      <th>13</th>\n",
       "      <td>Top right corner</td>\n",
       "    </tr>\n",
       "  </tbody>\n",
       "</table>\n",
       "</div>"
      ],
      "text/plain": [
       "                event_type\n",
       "id                        \n",
       "1             Bit too high\n",
       "2                  Blocked\n",
       "3       Bottom left corner\n",
       "4      Bottom right corner\n",
       "5       Centre of the goal\n",
       "6            High and wide\n",
       "7             Hits the bar\n",
       "8       Misses to the left\n",
       "9      Misses to the right\n",
       "10                Too high\n",
       "11  Top centre of the goal\n",
       "12         Top left corner\n",
       "13        Top right corner"
      ]
     },
     "execution_count": 9,
     "metadata": {},
     "output_type": "execute_result"
    }
   ],
   "source": [
    "shot_place"
   ]
  },
  {
   "cell_type": "code",
   "execution_count": 10,
   "metadata": {},
   "outputs": [
    {
     "data": {
      "text/html": [
       "<div>\n",
       "<style scoped>\n",
       "    .dataframe tbody tr th:only-of-type {\n",
       "        vertical-align: middle;\n",
       "    }\n",
       "\n",
       "    .dataframe tbody tr th {\n",
       "        vertical-align: top;\n",
       "    }\n",
       "\n",
       "    .dataframe thead th {\n",
       "        text-align: right;\n",
       "    }\n",
       "</style>\n",
       "<table border=\"1\" class=\"dataframe\">\n",
       "  <thead>\n",
       "    <tr style=\"text-align: right;\">\n",
       "      <th></th>\n",
       "      <th>event_type</th>\n",
       "    </tr>\n",
       "    <tr>\n",
       "      <th>id</th>\n",
       "      <th></th>\n",
       "    </tr>\n",
       "  </thead>\n",
       "  <tbody>\n",
       "    <tr>\n",
       "      <th>1</th>\n",
       "      <td>On target</td>\n",
       "    </tr>\n",
       "    <tr>\n",
       "      <th>2</th>\n",
       "      <td>Off target</td>\n",
       "    </tr>\n",
       "    <tr>\n",
       "      <th>3</th>\n",
       "      <td>Blocked</td>\n",
       "    </tr>\n",
       "    <tr>\n",
       "      <th>4</th>\n",
       "      <td>Hit the bar</td>\n",
       "    </tr>\n",
       "  </tbody>\n",
       "</table>\n",
       "</div>"
      ],
      "text/plain": [
       "     event_type\n",
       "id             \n",
       "1     On target\n",
       "2    Off target\n",
       "3       Blocked\n",
       "4   Hit the bar"
      ]
     },
     "execution_count": 10,
     "metadata": {},
     "output_type": "execute_result"
    }
   ],
   "source": [
    "shot_outcome"
   ]
  },
  {
   "cell_type": "code",
   "execution_count": 11,
   "metadata": {},
   "outputs": [
    {
     "data": {
      "text/html": [
       "<div>\n",
       "<style scoped>\n",
       "    .dataframe tbody tr th:only-of-type {\n",
       "        vertical-align: middle;\n",
       "    }\n",
       "\n",
       "    .dataframe tbody tr th {\n",
       "        vertical-align: top;\n",
       "    }\n",
       "\n",
       "    .dataframe thead th {\n",
       "        text-align: right;\n",
       "    }\n",
       "</style>\n",
       "<table border=\"1\" class=\"dataframe\">\n",
       "  <thead>\n",
       "    <tr style=\"text-align: right;\">\n",
       "      <th></th>\n",
       "      <th>event_type</th>\n",
       "    </tr>\n",
       "    <tr>\n",
       "      <th>id</th>\n",
       "      <th></th>\n",
       "    </tr>\n",
       "  </thead>\n",
       "  <tbody>\n",
       "    <tr>\n",
       "      <th>1</th>\n",
       "      <td>Attacking half</td>\n",
       "    </tr>\n",
       "    <tr>\n",
       "      <th>2</th>\n",
       "      <td>Defensive half</td>\n",
       "    </tr>\n",
       "    <tr>\n",
       "      <th>3</th>\n",
       "      <td>Centre of the box</td>\n",
       "    </tr>\n",
       "    <tr>\n",
       "      <th>4</th>\n",
       "      <td>Left wing</td>\n",
       "    </tr>\n",
       "    <tr>\n",
       "      <th>5</th>\n",
       "      <td>Right wing</td>\n",
       "    </tr>\n",
       "    <tr>\n",
       "      <th>6</th>\n",
       "      <td>Difficult angle and long range</td>\n",
       "    </tr>\n",
       "    <tr>\n",
       "      <th>7</th>\n",
       "      <td>Difficult angle on the left</td>\n",
       "    </tr>\n",
       "    <tr>\n",
       "      <th>8</th>\n",
       "      <td>Difficult angle on the right</td>\n",
       "    </tr>\n",
       "    <tr>\n",
       "      <th>9</th>\n",
       "      <td>Left side of the box</td>\n",
       "    </tr>\n",
       "    <tr>\n",
       "      <th>10</th>\n",
       "      <td>Left side of the six yard box</td>\n",
       "    </tr>\n",
       "    <tr>\n",
       "      <th>11</th>\n",
       "      <td>Right side of the box</td>\n",
       "    </tr>\n",
       "    <tr>\n",
       "      <th>12</th>\n",
       "      <td>Right side of the six yard box</td>\n",
       "    </tr>\n",
       "    <tr>\n",
       "      <th>13</th>\n",
       "      <td>Very close range</td>\n",
       "    </tr>\n",
       "    <tr>\n",
       "      <th>14</th>\n",
       "      <td>Penalty spot</td>\n",
       "    </tr>\n",
       "    <tr>\n",
       "      <th>15</th>\n",
       "      <td>Outside the box</td>\n",
       "    </tr>\n",
       "    <tr>\n",
       "      <th>16</th>\n",
       "      <td>Long range</td>\n",
       "    </tr>\n",
       "    <tr>\n",
       "      <th>17</th>\n",
       "      <td>More than 35 yards</td>\n",
       "    </tr>\n",
       "    <tr>\n",
       "      <th>18</th>\n",
       "      <td>More than 40 yards</td>\n",
       "    </tr>\n",
       "    <tr>\n",
       "      <th>19</th>\n",
       "      <td>Not recorded</td>\n",
       "    </tr>\n",
       "  </tbody>\n",
       "</table>\n",
       "</div>"
      ],
      "text/plain": [
       "                        event_type\n",
       "id                                \n",
       "1                   Attacking half\n",
       "2                   Defensive half\n",
       "3                Centre of the box\n",
       "4                        Left wing\n",
       "5                       Right wing\n",
       "6   Difficult angle and long range\n",
       "7      Difficult angle on the left\n",
       "8     Difficult angle on the right\n",
       "9             Left side of the box\n",
       "10   Left side of the six yard box\n",
       "11           Right side of the box\n",
       "12  Right side of the six yard box\n",
       "13                Very close range\n",
       "14                    Penalty spot\n",
       "15                 Outside the box\n",
       "16                      Long range\n",
       "17              More than 35 yards\n",
       "18              More than 40 yards\n",
       "19                    Not recorded"
      ]
     },
     "execution_count": 11,
     "metadata": {},
     "output_type": "execute_result"
    }
   ],
   "source": [
    "location"
   ]
  },
  {
   "cell_type": "code",
   "execution_count": 12,
   "metadata": {},
   "outputs": [
    {
     "data": {
      "text/html": [
       "<div>\n",
       "<style scoped>\n",
       "    .dataframe tbody tr th:only-of-type {\n",
       "        vertical-align: middle;\n",
       "    }\n",
       "\n",
       "    .dataframe tbody tr th {\n",
       "        vertical-align: top;\n",
       "    }\n",
       "\n",
       "    .dataframe thead th {\n",
       "        text-align: right;\n",
       "    }\n",
       "</style>\n",
       "<table border=\"1\" class=\"dataframe\">\n",
       "  <thead>\n",
       "    <tr style=\"text-align: right;\">\n",
       "      <th></th>\n",
       "      <th>event_type</th>\n",
       "    </tr>\n",
       "    <tr>\n",
       "      <th>id</th>\n",
       "      <th></th>\n",
       "    </tr>\n",
       "  </thead>\n",
       "  <tbody>\n",
       "    <tr>\n",
       "      <th>1</th>\n",
       "      <td>right foot</td>\n",
       "    </tr>\n",
       "    <tr>\n",
       "      <th>2</th>\n",
       "      <td>left foot</td>\n",
       "    </tr>\n",
       "    <tr>\n",
       "      <th>3</th>\n",
       "      <td>head</td>\n",
       "    </tr>\n",
       "  </tbody>\n",
       "</table>\n",
       "</div>"
      ],
      "text/plain": [
       "    event_type\n",
       "id            \n",
       "1   right foot\n",
       "2    left foot\n",
       "3         head"
      ]
     },
     "execution_count": 12,
     "metadata": {},
     "output_type": "execute_result"
    }
   ],
   "source": [
    "bodypart"
   ]
  },
  {
   "cell_type": "code",
   "execution_count": 13,
   "metadata": {},
   "outputs": [
    {
     "data": {
      "text/html": [
       "<div>\n",
       "<style scoped>\n",
       "    .dataframe tbody tr th:only-of-type {\n",
       "        vertical-align: middle;\n",
       "    }\n",
       "\n",
       "    .dataframe tbody tr th {\n",
       "        vertical-align: top;\n",
       "    }\n",
       "\n",
       "    .dataframe thead th {\n",
       "        text-align: right;\n",
       "    }\n",
       "</style>\n",
       "<table border=\"1\" class=\"dataframe\">\n",
       "  <thead>\n",
       "    <tr style=\"text-align: right;\">\n",
       "      <th></th>\n",
       "      <th>event_type</th>\n",
       "    </tr>\n",
       "    <tr>\n",
       "      <th>id</th>\n",
       "      <th></th>\n",
       "    </tr>\n",
       "  </thead>\n",
       "  <tbody>\n",
       "    <tr>\n",
       "      <th>0</th>\n",
       "      <td>None</td>\n",
       "    </tr>\n",
       "    <tr>\n",
       "      <th>1</th>\n",
       "      <td>Pass</td>\n",
       "    </tr>\n",
       "    <tr>\n",
       "      <th>2</th>\n",
       "      <td>Cross</td>\n",
       "    </tr>\n",
       "    <tr>\n",
       "      <th>3</th>\n",
       "      <td>Headed pass</td>\n",
       "    </tr>\n",
       "    <tr>\n",
       "      <th>4</th>\n",
       "      <td>Through ball</td>\n",
       "    </tr>\n",
       "  </tbody>\n",
       "</table>\n",
       "</div>"
      ],
      "text/plain": [
       "      event_type\n",
       "id              \n",
       "0           None\n",
       "1           Pass\n",
       "2          Cross\n",
       "3    Headed pass\n",
       "4   Through ball"
      ]
     },
     "execution_count": 13,
     "metadata": {},
     "output_type": "execute_result"
    }
   ],
   "source": [
    "assist_method"
   ]
  },
  {
   "cell_type": "code",
   "execution_count": 14,
   "metadata": {},
   "outputs": [
    {
     "data": {
      "text/html": [
       "<div>\n",
       "<style scoped>\n",
       "    .dataframe tbody tr th:only-of-type {\n",
       "        vertical-align: middle;\n",
       "    }\n",
       "\n",
       "    .dataframe tbody tr th {\n",
       "        vertical-align: top;\n",
       "    }\n",
       "\n",
       "    .dataframe thead th {\n",
       "        text-align: right;\n",
       "    }\n",
       "</style>\n",
       "<table border=\"1\" class=\"dataframe\">\n",
       "  <thead>\n",
       "    <tr style=\"text-align: right;\">\n",
       "      <th></th>\n",
       "      <th>event_type</th>\n",
       "    </tr>\n",
       "    <tr>\n",
       "      <th>id</th>\n",
       "      <th></th>\n",
       "    </tr>\n",
       "  </thead>\n",
       "  <tbody>\n",
       "    <tr>\n",
       "      <th>1</th>\n",
       "      <td>Open play</td>\n",
       "    </tr>\n",
       "    <tr>\n",
       "      <th>2</th>\n",
       "      <td>Set piece</td>\n",
       "    </tr>\n",
       "    <tr>\n",
       "      <th>3</th>\n",
       "      <td>Corner</td>\n",
       "    </tr>\n",
       "    <tr>\n",
       "      <th>4</th>\n",
       "      <td>Free kick</td>\n",
       "    </tr>\n",
       "  </tbody>\n",
       "</table>\n",
       "</div>"
      ],
      "text/plain": [
       "   event_type\n",
       "id           \n",
       "1   Open play\n",
       "2   Set piece\n",
       "3      Corner\n",
       "4   Free kick"
      ]
     },
     "execution_count": 14,
     "metadata": {},
     "output_type": "execute_result"
    }
   ],
   "source": [
    "situition"
   ]
  },
  {
   "cell_type": "markdown",
   "metadata": {},
   "source": [
    "## When Goals are Scored\n",
    "Lets see when the teams score moast and does this corrensponds to the odds. The logical conclusion shoud be that thez are almost equalz distributed. "
   ]
  },
  {
   "cell_type": "code",
   "execution_count": 15,
   "metadata": {},
   "outputs": [
    {
     "data": {
      "image/png": "[encoded data removed]",
      "text/plain": [
       "<Figure size 576x432 with 1 Axes>"
      ]
     },
     "metadata": {
      "needs_background": "light"
     },
     "output_type": "display_data"
    }
   ],
   "source": [
    "events_data['is_goal'] = events_data['is_goal'].astype('bool')\n",
    "goals = events_data[events_data['is_goal']]\n",
    "\n",
    "substitude = events_data[events_data['is_goal']]\n",
    "fig=plt.figure(figsize=(8,6))\n",
    "plt.hist(goals.time, width=1, bins=100, color='orange')\n",
    "plt.xlabel('Minutes')\n",
    "plt.ylabel('Number of goals')\n",
    "plt.title('Number of goals per minute in games')\n",
    "plt.show()"
   ]
  },
  {
   "cell_type": "markdown",
   "metadata": {},
   "source": [
    "We can easily see spikes in around 45-th and 90-th minute, those are mainly because of the way data is reported in the games. Goals in the extra time are reported in the 45-th and 90-th minute respectively and because of that the spikes exist. Given that, lets see how many more goals are scored in the second half compared to the first half."
   ]
  },
  {
   "cell_type": "code",
   "execution_count": 16,
   "metadata": {},
   "outputs": [
    {
     "name": "stdout",
     "output_type": "stream",
     "text": [
      "2.2502792256142965\n"
     ]
    }
   ],
   "source": [
    "goals_first_half = np.size(goals[goals.time <= 45])\n",
    "goals_second_half = np.size(goals[goals.time <= 90])\n",
    "print((goals_second_half/goals_first_half))"
   ]
  },
  {
   "cell_type": "markdown",
   "metadata": {},
   "source": [
    "Out of those goals the distrubution home/away goals are as follow:"
   ]
  },
  {
   "cell_type": "code",
   "execution_count": 17,
   "metadata": {},
   "outputs": [
    {
     "data": {
      "image/png": "[encoded data removed]",
      "text/plain": [
       "<Figure size 576x432 with 1 Axes>"
      ]
     },
     "metadata": {
      "needs_background": "light"
     },
     "output_type": "display_data"
    }
   ],
   "source": [
    "fig=plt.figure(figsize=(8,6))\n",
    "plt.hist(goals[goals['side']==1]['time'], width=1, bins=100, color='green', label='home goals', alpha=0.5)   \n",
    "plt.hist(goals[goals['side']==2]['time'], width=1, bins=100, color='red', label='away goals', alpha=0.5) \n",
    "plt.xlabel('Minutes')\n",
    "plt.ylabel('Number of goals')\n",
    "plt.title('Number of goals (by home/away side) against Time during match')\n",
    "plt.legend()\n",
    "plt.show()"
   ]
  },
  {
   "cell_type": "markdown",
   "metadata": {},
   "source": [
    "For every minute more goals are scored by the home team compared to the away team. This supports the general notion, that the home team has the advantage. On other hand completely dismissed our assumption for near equal goals in the first and second half. In the second half there are far more goals."
   ]
  },
  {
   "cell_type": "markdown",
   "metadata": {},
   "source": [
    "### How goals are scored\n",
    "Interessting statistic will be also how goals are scored"
   ]
  },
  {
   "cell_type": "code",
   "execution_count": 18,
   "metadata": {},
   "outputs": [
    {
     "data": {
      "image/png": "[encoded data removed]",
      "text/plain": [
       "<Figure size 720x720 with 1 Axes>"
      ]
     },
     "metadata": {},
     "output_type": "display_data"
    }
   ],
   "source": [
    "def show_pie_chart_bodyparts(goals_df, title='Percentage of bodyparts for goals'):\n",
    "    \"\"\"\n",
    "    Shows a pie chart as a subplot of the \n",
    "    @input goals_df - datafreame with the goals. Muss have the column bodupart\n",
    "    @input title: default = 'Percentage of bodyparts for goals' - title of the pie chart\n",
    "    @return - none\n",
    "    \"\"\"\n",
    "    plt.subplot(2,1,1)\n",
    "    labels=['Right Foot', 'Left Foot', 'Headers']\n",
    "    sizes=[goals_df[goals_df['bodypart']==1].shape[0], goals_df[goals_df['bodypart']==2].shape[0], goals_df[goals_df['bodypart']==3].shape[0]]\n",
    "    colors=['cyan', 'grey', 'pink']\n",
    "    plt.pie(sizes, labels=labels, colors=colors, autopct='%1.1f%%', startangle=60)\n",
    "    plt.axis('equal')\n",
    "    plt.title(title, fontsize=14, fontweight=\"bold\")\n",
    "    fig=plt.gcf() \n",
    "    fig.set_size_inches(10,10)\n",
    "    plt.show()\n",
    "show_pie_chart_bodyparts(goals)"
   ]
  },
  {
   "cell_type": "markdown",
   "metadata": {},
   "source": [
    "The logic is quite clear, as most of the players are right-footed. The percentages look a bit different, when we see how they go in the different leagues:"
   ]
  },
  {
   "cell_type": "code",
   "execution_count": 19,
   "metadata": {
    "scrolled": true
   },
   "outputs": [
    {
     "data": {
      "image/png": "[encoded data removed]",
      "text/plain": [
       "<Figure size 432x288 with 1 Axes>"
      ]
     },
     "metadata": {
      "needs_background": "light"
     },
     "output_type": "display_data"
    }
   ],
   "source": [
    "goals = goals.assign(league = odds_data['league'])\n",
    "grouped_goals = goals.groupby('league')\n",
    "index = ['Right foot', 'Left foor', 'Head']\n",
    "ax = grouped_goals.bodypart.value_counts().unstack(0).plot.bar()\n",
    "ax.legend(['Germany', 'England', 'France', 'Italy', 'Spain'])\n",
    "plt.xticks(np.arange(3), ('Right Foot', 'Left Foot', 'Head'))\n",
    "plt.title('Goals grouped by bodypart for the five leagues')\n",
    "plt.ylabel('Percentage of the goals')\n",
    "plt.xlabel('Bodypart')\n",
    "plt.show()"
   ]
  },
  {
   "cell_type": "markdown",
   "metadata": {},
   "source": [
    "Surprisingly here most goals with head are scored in France and Spain, but in countries, which are famous for more \"physical\" approach as England and Germany the statistics are very different. Which comfirms the data in the research made by Edward Nsolo, Patric Lambrix and Niklas Carlsson - [Player valuation in European football](https://www.ida.liu.se/~nikca89/papers/mlsa18-football.pdf). \n",
    "If we look into the situations, which lead to goal, we migh be able to see more clearly why this result have happened."
   ]
  },
  {
   "cell_type": "code",
   "execution_count": 20,
   "metadata": {},
   "outputs": [
    {
     "data": {
      "image/png": "[encoded data removed]",
      "text/plain": [
       "<Figure size 720x720 with 1 Axes>"
      ]
     },
     "metadata": {},
     "output_type": "display_data"
    },
    {
     "data": {
      "image/png": "[encoded data removed]",
      "text/plain": [
       "<Figure size 432x288 with 1 Axes>"
      ]
     },
     "metadata": {
      "needs_background": "light"
     },
     "output_type": "display_data"
    }
   ],
   "source": [
    "plt.subplot(2,1,1)\n",
    "labels=['Open Play', 'Set Piece(Excluding direct Free kick)','Corners','Direct Free Kick']\n",
    "sizes=[goals[goals['situation']==1].shape[0],goals[goals['situation']==2].shape[0],goals[goals['situation']==3].shape[0],goals[goals['situation']==4].shape[0]]\n",
    "colors=['cyan','grey','blue','yellow']\n",
    "plt.pie(sizes,labels=labels,colors=colors,autopct='%1.1f%%',startangle=60)\n",
    "plt.axis('equal')\n",
    "plt.title('Percentage of each situation for goals',fontsize=14,fontweight='bold')\n",
    "fig=plt.gcf() \n",
    "fig.set_size_inches(10,10)\n",
    "\n",
    "ax = grouped_goals.situation.value_counts().unstack(0).plot.bar()\n",
    "ax.legend(['Germany', 'England', 'France', 'Italy', 'Spain'])\n",
    "plt.xticks(np.arange(5), ('Open Play', 'Set Piece','Corners\",\"Direct Free Kick'))\n",
    "plt.title('Goals grouped by situation for the five leagues')\n",
    "plt.ylabel(\"Percentage of the goals\")\n",
    "plt.xlabel('Situation')\n",
    "plt.show()"
   ]
  },
  {
   "cell_type": "markdown",
   "metadata": {},
   "source": [
    "Again in Spain and France a lot of goals are scored from set pieces and corners, so crossings from open play are not so common and because of that most goals are scored with head. Italy has very little goals scored fro mset pieces and cornners, which confirms the lower amount of goals, scored with the head. From this data laso seems like in Spain are the best direct free kick takers, as there are most of the goals scored from free kicks.\n",
    "\n",
    "Lets find the best free kick takers and see if this is true."
   ]
  },
  {
   "cell_type": "code",
   "execution_count": 21,
   "metadata": {},
   "outputs": [
    {
     "data": {
      "image/png": "[encoded data removed]",
      "text/plain": [
       "<Figure size 432x288 with 1 Axes>"
      ]
     },
     "metadata": {
      "needs_background": "light"
     },
     "output_type": "display_data"
    }
   ],
   "source": [
    "free_kicks=events_data[(events_data['situation']==4)]\n",
    "scored_free_kicks = free_kicks[free_kicks['is_goal']]\n",
    "top_five_players = scored_free_kicks.groupby('player')['player'].count().nlargest(5)\n",
    "plt.xlabel('goals')\n",
    "top_five_players.plot.barh()\n",
    "plt.show()"
   ]
  },
  {
   "cell_type": "markdown",
   "metadata": {},
   "source": [
    "The dominations in the free kicks is also visible and in the player's statistics top two players are from Spain and the other three are from Italy (In the data, we have Cristiano Ronaldo still plays for Real Madrid). Lets see the conversion rate for the top 5 players and see which one is the most deadly from free kicks."
   ]
  },
  {
   "cell_type": "code",
   "execution_count": 22,
   "metadata": {},
   "outputs": [
    {
     "data": {
      "image/png": "[encoded data removed]",
      "text/plain": [
       "<Figure size 432x288 with 1 Axes>"
      ]
     },
     "metadata": {
      "needs_background": "light"
     },
     "output_type": "display_data"
    }
   ],
   "source": [
    "def free_kicks_conversion_rate(player):\n",
    "    '''\n",
    "    How much of the free kicks, which player takes are converted into goals\n",
    "    @input player\n",
    "    @return percentage of the free-kicks which convert into goals.\n",
    "    '''\n",
    "    player_free_kicks=free_kicks[free_kicks['player']==player]\n",
    "    scored = player_free_kicks[player_free_kicks['is_goal']]\n",
    "    conversion_rate = scored.shape[0] / player_free_kicks.shape[0]\n",
    "    return (player, conversion_rate)\n",
    "\n",
    "all_players = []\n",
    "for player in top_five_players.index.values.tolist():\n",
    "    all_players.append(free_kicks_conversion_rate(player))\n",
    "\n",
    "df = pd.DataFrame(all_players, columns=['player', 'conversion rate'])\n",
    "df.plot(kind='barh', x='player', legend=False)\n",
    "plt.xlabel('conversion rate')\n",
    "plt.show()"
   ]
  },
  {
   "cell_type": "markdown",
   "metadata": {},
   "source": [
    "Аlthough both plazes from Spain had scored more goals, the players from Italy have far better conversion rate and prove to be much more potent from free kicks."
   ]
  },
  {
   "cell_type": "markdown",
   "metadata": {},
   "source": [
    "### Odds Comparison\n",
    "Odds are interpreted as the amount you will recieve back for every 1 USD you bet on that result. For example, if the odds for a home win is 4, you will recieve 4 USD for every 1 USD you bet on a home win. Thus, from the perspective of the bookmaker, they would set a lower odd for the result they predict. The following function would return the bookmakers' predicted result of a match based on the highest odds for each result for a particular match."
   ]
  },
  {
   "cell_type": "code",
   "execution_count": 23,
   "metadata": {},
   "outputs": [],
   "source": [
    "def odds_pred_result(odds_home, odd_draw, odd_away):\n",
    "    '''\n",
    "    Return prediction based on the odds of the bookies\n",
    "    @input - odds_home, odd_draw, odd_away\n",
    "    @return string which indicates the result\n",
    "    '''\n",
    "    if odds_home < odd_draw and odds_home < odd_away:\n",
    "        return ('Home Win')\n",
    "    elif odd_draw < odds_home and odd_draw < odd_away:\n",
    "        return ('Draw')\n",
    "    elif odd_away < odd_draw and odd_away < odds_home:\n",
    "        return ('Away Win')"
   ]
  },
  {
   "cell_type": "markdown",
   "metadata": {},
   "source": [
    "And this function will return the actual result:"
   ]
  },
  {
   "cell_type": "code",
   "execution_count": 24,
   "metadata": {},
   "outputs": [],
   "source": [
    "def actual_result(home_goals, away_goals):\n",
    "    '''\n",
    "    @input home_goals, away_goals\n",
    "    @return string which indicates the result\n",
    "    '''\n",
    "    if home_goals > away_goals:\n",
    "        return ('Home Win')\n",
    "    elif home_goals == away_goals:\n",
    "        return ('Draw')\n",
    "    elif home_goals < away_goals:\n",
    "        return ('Away Win')\n",
    "\n",
    "def actual_result_encode(home_goals,away_goals):\n",
    "    '''\n",
    "    @input home_goals, away_goals\n",
    "    @return integer which indicates the result\n",
    "    '''\n",
    "    if home_goals > away_goals:\n",
    "        return (1)\n",
    "    elif home_goals == away_goals:\n",
    "        return (2)\n",
    "    elif home_goals < away_goals:\n",
    "        return (3)"
   ]
  },
  {
   "cell_type": "markdown",
   "metadata": {},
   "source": [
    "We now compare the chances of us predicting the result of the game correctly just by looking at the odds. "
   ]
  },
  {
   "cell_type": "code",
   "execution_count": 25,
   "metadata": {},
   "outputs": [],
   "source": [
    "def check_prediction(data):\n",
    "    '''\n",
    "    @input data\n",
    "    @return the correctnes of the results\n",
    "    '''\n",
    "    correct=0\n",
    "    wrong=0\n",
    "    for i in range(1,data.shape[0]+1):\n",
    "        odd_h = data[i-1:i]['odd_home'].item()\n",
    "        odd_d = data[i-1:i]['odd_draw'].item()\n",
    "        odd_a = data[i-1:i]['odd_away'].item()\n",
    "        fthg = data[i-1:i]['home_goals'].item()\n",
    "        ftag = data[i-1:i]['away_goals'].item()\n",
    "        oddsresult=odds_pred_result(odd_h,odd_d,odd_a)\n",
    "        actresult=actual_result(fthg,ftag)\n",
    "        if oddsresult==actresult:\n",
    "            correct+=1\n",
    "        else:\n",
    "            wrong+=1\n",
    "    return(str('%.8f'%(correct/(correct+wrong)))+str('% correct'))"
   ]
  },
  {
   "cell_type": "code",
   "execution_count": 26,
   "metadata": {},
   "outputs": [
    {
     "data": {
      "text/plain": [
       "'0.53253560% correct'"
      ]
     },
     "execution_count": 26,
     "metadata": {},
     "output_type": "execute_result"
    }
   ],
   "source": [
    "check_prediction(odds_data)"
   ]
  },
  {
   "cell_type": "markdown",
   "metadata": {},
   "source": [
    "So, if we try to predict results purely on the base of the odds, we will be right in just a little more of half of the cases."
   ]
  },
  {
   "cell_type": "markdown",
   "metadata": {},
   "source": [
    "### Another way of Predicting"
   ]
  },
  {
   "cell_type": "markdown",
   "metadata": {},
   "source": [
    "We will try to use the odds and the difference among the odds to predict the result of a match."
   ]
  },
  {
   "cell_type": "code",
   "execution_count": 27,
   "metadata": {},
   "outputs": [
    {
     "data": {
      "text/html": [
       "<div>\n",
       "<style scoped>\n",
       "    .dataframe tbody tr th:only-of-type {\n",
       "        vertical-align: middle;\n",
       "    }\n",
       "\n",
       "    .dataframe tbody tr th {\n",
       "        vertical-align: top;\n",
       "    }\n",
       "\n",
       "    .dataframe thead th {\n",
       "        text-align: right;\n",
       "    }\n",
       "</style>\n",
       "<table border=\"1\" class=\"dataframe\">\n",
       "  <thead>\n",
       "    <tr style=\"text-align: right;\">\n",
       "      <th></th>\n",
       "      <th>home_goals</th>\n",
       "      <th>away_goals</th>\n",
       "      <th>odd_home</th>\n",
       "      <th>odd_draw</th>\n",
       "      <th>odd_away</th>\n",
       "    </tr>\n",
       "  </thead>\n",
       "  <tbody>\n",
       "    <tr>\n",
       "      <th>0</th>\n",
       "      <td>3</td>\n",
       "      <td>1</td>\n",
       "      <td>1.56</td>\n",
       "      <td>4.41</td>\n",
       "      <td>7.42</td>\n",
       "    </tr>\n",
       "    <tr>\n",
       "      <th>1</th>\n",
       "      <td>2</td>\n",
       "      <td>2</td>\n",
       "      <td>2.36</td>\n",
       "      <td>3.60</td>\n",
       "      <td>3.40</td>\n",
       "    </tr>\n",
       "    <tr>\n",
       "      <th>2</th>\n",
       "      <td>2</td>\n",
       "      <td>0</td>\n",
       "      <td>1.83</td>\n",
       "      <td>4.20</td>\n",
       "      <td>4.80</td>\n",
       "    </tr>\n",
       "    <tr>\n",
       "      <th>3</th>\n",
       "      <td>0</td>\n",
       "      <td>1</td>\n",
       "      <td>1.55</td>\n",
       "      <td>4.50</td>\n",
       "      <td>9.40</td>\n",
       "    </tr>\n",
       "    <tr>\n",
       "      <th>4</th>\n",
       "      <td>1</td>\n",
       "      <td>0</td>\n",
       "      <td>2.50</td>\n",
       "      <td>3.40</td>\n",
       "      <td>3.45</td>\n",
       "    </tr>\n",
       "  </tbody>\n",
       "</table>\n",
       "</div>"
      ],
      "text/plain": [
       "   home_goals  away_goals  odd_home  odd_draw  odd_away\n",
       "0           3           1      1.56      4.41      7.42\n",
       "1           2           2      2.36      3.60      3.40\n",
       "2           2           0      1.83      4.20      4.80\n",
       "3           0           1      1.55      4.50      9.40\n",
       "4           1           0      2.50      3.40      3.45"
      ]
     },
     "execution_count": 27,
     "metadata": {},
     "output_type": "execute_result"
    }
   ],
   "source": [
    "x_var=odds_data.iloc[:,6:11]\n",
    "x_var.head()"
   ]
  },
  {
   "cell_type": "code",
   "execution_count": 28,
   "metadata": {},
   "outputs": [
    {
     "data": {
      "text/html": [
       "<div>\n",
       "<style scoped>\n",
       "    .dataframe tbody tr th:only-of-type {\n",
       "        vertical-align: middle;\n",
       "    }\n",
       "\n",
       "    .dataframe tbody tr th {\n",
       "        vertical-align: top;\n",
       "    }\n",
       "\n",
       "    .dataframe thead th {\n",
       "        text-align: right;\n",
       "    }\n",
       "</style>\n",
       "<table border=\"1\" class=\"dataframe\">\n",
       "  <thead>\n",
       "    <tr style=\"text-align: right;\">\n",
       "      <th></th>\n",
       "      <th>odd_home</th>\n",
       "      <th>odd_draw</th>\n",
       "      <th>odd_away</th>\n",
       "      <th>diff_h_d</th>\n",
       "      <th>diff_d_a</th>\n",
       "      <th>diff_h_a</th>\n",
       "    </tr>\n",
       "  </thead>\n",
       "  <tbody>\n",
       "    <tr>\n",
       "      <th>0</th>\n",
       "      <td>1.56</td>\n",
       "      <td>4.41</td>\n",
       "      <td>7.42</td>\n",
       "      <td>2.85</td>\n",
       "      <td>3.01</td>\n",
       "      <td>5.86</td>\n",
       "    </tr>\n",
       "    <tr>\n",
       "      <th>1</th>\n",
       "      <td>2.36</td>\n",
       "      <td>3.60</td>\n",
       "      <td>3.40</td>\n",
       "      <td>1.24</td>\n",
       "      <td>0.20</td>\n",
       "      <td>1.04</td>\n",
       "    </tr>\n",
       "    <tr>\n",
       "      <th>2</th>\n",
       "      <td>1.83</td>\n",
       "      <td>4.20</td>\n",
       "      <td>4.80</td>\n",
       "      <td>2.37</td>\n",
       "      <td>0.60</td>\n",
       "      <td>2.97</td>\n",
       "    </tr>\n",
       "    <tr>\n",
       "      <th>3</th>\n",
       "      <td>1.55</td>\n",
       "      <td>4.50</td>\n",
       "      <td>9.40</td>\n",
       "      <td>2.95</td>\n",
       "      <td>4.90</td>\n",
       "      <td>7.85</td>\n",
       "    </tr>\n",
       "    <tr>\n",
       "      <th>4</th>\n",
       "      <td>2.50</td>\n",
       "      <td>3.40</td>\n",
       "      <td>3.45</td>\n",
       "      <td>0.90</td>\n",
       "      <td>0.05</td>\n",
       "      <td>0.95</td>\n",
       "    </tr>\n",
       "  </tbody>\n",
       "</table>\n",
       "</div>"
      ],
      "text/plain": [
       "   odd_home  odd_draw  odd_away  diff_h_d  diff_d_a  diff_h_a\n",
       "0      1.56      4.41      7.42      2.85      3.01      5.86\n",
       "1      2.36      3.60      3.40      1.24      0.20      1.04\n",
       "2      1.83      4.20      4.80      2.37      0.60      2.97\n",
       "3      1.55      4.50      9.40      2.95      4.90      7.85\n",
       "4      2.50      3.40      3.45      0.90      0.05      0.95"
      ]
     },
     "execution_count": 28,
     "metadata": {},
     "output_type": "execute_result"
    }
   ],
   "source": [
    "x_var=odds_data.iloc[:,6:11]\n",
    "result=[]\n",
    "for i in range(1,odds_data.shape[0]+1):\n",
    "    result.append(actual_result_encode(odds_data[i-1:i]['home_goals'].item(),odds_data[i-1:i]['away_goals'].item()))\n",
    "y=pd.DataFrame(result)\n",
    "x_var['diff_h_d']=abs(x_var['odd_home']-x_var['odd_draw'])\n",
    "x_var['diff_d_a']=abs(x_var['odd_draw']-x_var['odd_away'])\n",
    "x_var['diff_h_a']=abs(x_var['odd_home']-x_var['odd_away'])\n",
    "x_var=x_var.drop(['home_goals','away_goals'],axis=1)\n",
    "x_var.head()"
   ]
  },
  {
   "cell_type": "markdown",
   "metadata": {},
   "source": [
    "We will visualise the results of out predictions using confusion matrix. It will show how many of our guesses were right and how many were wrong."
   ]
  },
  {
   "cell_type": "code",
   "execution_count": 29,
   "metadata": {},
   "outputs": [],
   "source": [
    "def confusion_matrix_model(model_used):\n",
    "    '''\n",
    "    Generates confusion matrix from the used model\n",
    "    @input model\n",
    "    '''\n",
    "    cm=confusion_matrix(y_train,model_used.predict(x_train))\n",
    "    cm=pd.DataFrame(cm)\n",
    "    cm.columns=['Predicted Home Win','Predicted Draw','Predicted Away Win']\n",
    "    cm.index=['Actual Home Win','Actual Draw','Actual Away Win']\n",
    "    return cm"
   ]
  },
  {
   "cell_type": "code",
   "execution_count": 40,
   "metadata": {},
   "outputs": [],
   "source": [
    "x_train,x_test,y_train,y_test=train_test_split(x_var,y,test_size=0.2,random_state=0)"
   ]
  },
  {
   "cell_type": "markdown",
   "metadata": {},
   "source": [
    "#### Logistic Regression"
   ]
  },
  {
   "cell_type": "code",
   "execution_count": 31,
   "metadata": {},
   "outputs": [
    {
     "name": "stdout",
     "output_type": "stream",
     "text": [
      "Logistic Regression Accuracy: 0.5273828656199777\n"
     ]
    },
    {
     "data": {
      "text/html": [
       "<div>\n",
       "<style scoped>\n",
       "    .dataframe tbody tr th:only-of-type {\n",
       "        vertical-align: middle;\n",
       "    }\n",
       "\n",
       "    .dataframe tbody tr th {\n",
       "        vertical-align: top;\n",
       "    }\n",
       "\n",
       "    .dataframe thead th {\n",
       "        text-align: right;\n",
       "    }\n",
       "</style>\n",
       "<table border=\"1\" class=\"dataframe\">\n",
       "  <thead>\n",
       "    <tr style=\"text-align: right;\">\n",
       "      <th></th>\n",
       "      <th>Predicted Home Win</th>\n",
       "      <th>Predicted Draw</th>\n",
       "      <th>Predicted Away Win</th>\n",
       "    </tr>\n",
       "  </thead>\n",
       "  <tbody>\n",
       "    <tr>\n",
       "      <th>Actual Home Win</th>\n",
       "      <td>3235</td>\n",
       "      <td>3</td>\n",
       "      <td>486</td>\n",
       "    </tr>\n",
       "    <tr>\n",
       "      <th>Actual Draw</th>\n",
       "      <td>1548</td>\n",
       "      <td>0</td>\n",
       "      <td>506</td>\n",
       "    </tr>\n",
       "    <tr>\n",
       "      <th>Actual Away Win</th>\n",
       "      <td>1280</td>\n",
       "      <td>0</td>\n",
       "      <td>1031</td>\n",
       "    </tr>\n",
       "  </tbody>\n",
       "</table>\n",
       "</div>"
      ],
      "text/plain": [
       "                 Predicted Home Win  Predicted Draw  Predicted Away Win\n",
       "Actual Home Win                3235               3                 486\n",
       "Actual Draw                    1548               0                 506\n",
       "Actual Away Win                1280               0                1031"
      ]
     },
     "execution_count": 31,
     "metadata": {},
     "output_type": "execute_result"
    }
   ],
   "source": [
    "log_reg=LogisticRegression(solver='lbfgs', multi_class='auto', max_iter=10000)\n",
    "log_reg.fit(x_train,y_train.values.ravel())\n",
    "print('Logistic Regression Accuracy: {}'.format(accuracy_score(y_train, log_reg.predict(x_train))))\n",
    "confusion_matrix_model(log_reg)"
   ]
  },
  {
   "cell_type": "markdown",
   "metadata": {},
   "source": [
    "The logistic regression did not gave us much better percentage as compared to the odds. It is true, that our dataset is not so big, so if we add cross validation, maybe the accuracy would improve. We will use K-Fold cross validation with 10 bins."
   ]
  },
  {
   "cell_type": "code",
   "execution_count": 32,
   "metadata": {},
   "outputs": [
    {
     "name": "stdout",
     "output_type": "stream",
     "text": [
      "Logistic Regression Cross Validation Accuracy: 0.5263942772521999\n"
     ]
    }
   ],
   "source": [
    "k_fold = KFold(n_splits=10, shuffle=True, random_state=0)\n",
    "def cross_validate_score(model):\n",
    "    return np.mean(cross_val_score(model,x_train,y_train.values.ravel(),cv=k_fold,scoring=\"accuracy\"))\n",
    "print('Logistic Regression Cross Validation Accuracy: {}'.format(cross_validate_score(log_reg)))"
   ]
  },
  {
   "cell_type": "markdown",
   "metadata": {},
   "source": [
    "Giving that the cross-calidation has made tests on all of our data the accuracy metrics of the second try should be more close to the truth and we can see, that the regression model is even more error prone."
   ]
  },
  {
   "cell_type": "markdown",
   "metadata": {},
   "source": [
    "#### Decision Tree Regression\n",
    "Decision tree builds regression or classification models in the form of a tree structure. It breaks down a dataset into smaller and smaller subsets while at the same time an associated decision tree is incrementally developed. The final result is a tree with decision nodes and leaf nodes. As suggested by Tim Bock in the article [Decision Trees Are Usually Better Than Logistic Regression](https://www.displayr.com/decision-trees-are-usually-better-than-logistic-regression/Decision) the decision trees, although more memory expensive, are with better chance of prediction, compared to the Logistic regression. Lets see if this will confirm with out dataset."
   ]
  },
  {
   "cell_type": "code",
   "execution_count": 33,
   "metadata": {},
   "outputs": [
    {
     "name": "stdout",
     "output_type": "stream",
     "text": [
      "Decision Tree Regression Accuracy (without cross validation): 0.9749041908764989\n",
      "Decision Tree Regression Cross Validation Accuracy: 0.4261339020181375\n"
     ]
    },
    {
     "data": {
      "text/html": [
       "<div>\n",
       "<style scoped>\n",
       "    .dataframe tbody tr th:only-of-type {\n",
       "        vertical-align: middle;\n",
       "    }\n",
       "\n",
       "    .dataframe tbody tr th {\n",
       "        vertical-align: top;\n",
       "    }\n",
       "\n",
       "    .dataframe thead th {\n",
       "        text-align: right;\n",
       "    }\n",
       "</style>\n",
       "<table border=\"1\" class=\"dataframe\">\n",
       "  <thead>\n",
       "    <tr style=\"text-align: right;\">\n",
       "      <th></th>\n",
       "      <th>Predicted Home Win</th>\n",
       "      <th>Predicted Draw</th>\n",
       "      <th>Predicted Away Win</th>\n",
       "    </tr>\n",
       "  </thead>\n",
       "  <tbody>\n",
       "    <tr>\n",
       "      <th>Actual Home Win</th>\n",
       "      <td>3722</td>\n",
       "      <td>2</td>\n",
       "      <td>0</td>\n",
       "    </tr>\n",
       "    <tr>\n",
       "      <th>Actual Draw</th>\n",
       "      <td>89</td>\n",
       "      <td>1965</td>\n",
       "      <td>0</td>\n",
       "    </tr>\n",
       "    <tr>\n",
       "      <th>Actual Away Win</th>\n",
       "      <td>63</td>\n",
       "      <td>49</td>\n",
       "      <td>2199</td>\n",
       "    </tr>\n",
       "  </tbody>\n",
       "</table>\n",
       "</div>"
      ],
      "text/plain": [
       "                 Predicted Home Win  Predicted Draw  Predicted Away Win\n",
       "Actual Home Win                3722               2                   0\n",
       "Actual Draw                      89            1965                   0\n",
       "Actual Away Win                  63              49                2199"
      ]
     },
     "execution_count": 33,
     "metadata": {},
     "output_type": "execute_result"
    }
   ],
   "source": [
    "decision_tree=DecisionTreeClassifier()\n",
    "decision_tree.fit(x_train,y_train)\n",
    "print('Decision Tree Regression Accuracy (without cross validation): {}'.format(accuracy_score(y_train, decision_tree.predict(x_train))))\n",
    "print('Decision Tree Regression Cross Validation Accuracy: {}'.format(cross_validate_score(decision_tree)))\n",
    "confusion_matrix_model(decision_tree)"
   ]
  },
  {
   "cell_type": "markdown",
   "metadata": {},
   "source": [
    "For our dataset wuthout cross validation the score is really hugh, but when we put it on cross validation the average value from the ten validations is much lower and shows us in out case the tree might even be much more error prone."
   ]
  },
  {
   "cell_type": "markdown",
   "metadata": {},
   "source": [
    "#### Support Vector Machine\n",
    "The objective of the support vector machine algorithm is to find the hyperplane that has the maximum margin in an N-dimensional space(N — the number of features) that distinctly classifies the data points. It is "
   ]
  },
  {
   "cell_type": "code",
   "execution_count": 34,
   "metadata": {},
   "outputs": [
    {
     "name": "stdout",
     "output_type": "stream",
     "text": [
      "SVM Regression Accuracy (without cross validation): 0.5317097292619607\n",
      "SVM Regression Cross Validation Accuracy: 0.5275055379456364\n"
     ]
    },
    {
     "data": {
      "text/html": [
       "<div>\n",
       "<style scoped>\n",
       "    .dataframe tbody tr th:only-of-type {\n",
       "        vertical-align: middle;\n",
       "    }\n",
       "\n",
       "    .dataframe tbody tr th {\n",
       "        vertical-align: top;\n",
       "    }\n",
       "\n",
       "    .dataframe thead th {\n",
       "        text-align: right;\n",
       "    }\n",
       "</style>\n",
       "<table border=\"1\" class=\"dataframe\">\n",
       "  <thead>\n",
       "    <tr style=\"text-align: right;\">\n",
       "      <th></th>\n",
       "      <th>Predicted Home Win</th>\n",
       "      <th>Predicted Draw</th>\n",
       "      <th>Predicted Away Win</th>\n",
       "    </tr>\n",
       "  </thead>\n",
       "  <tbody>\n",
       "    <tr>\n",
       "      <th>Actual Home Win</th>\n",
       "      <td>3204</td>\n",
       "      <td>0</td>\n",
       "      <td>520</td>\n",
       "    </tr>\n",
       "    <tr>\n",
       "      <th>Actual Draw</th>\n",
       "      <td>1501</td>\n",
       "      <td>7</td>\n",
       "      <td>546</td>\n",
       "    </tr>\n",
       "    <tr>\n",
       "      <th>Actual Away Win</th>\n",
       "      <td>1221</td>\n",
       "      <td>0</td>\n",
       "      <td>1090</td>\n",
       "    </tr>\n",
       "  </tbody>\n",
       "</table>\n",
       "</div>"
      ],
      "text/plain": [
       "                 Predicted Home Win  Predicted Draw  Predicted Away Win\n",
       "Actual Home Win                3204               0                 520\n",
       "Actual Draw                    1501               7                 546\n",
       "Actual Away Win                1221               0                1090"
      ]
     },
     "execution_count": 34,
     "metadata": {},
     "output_type": "execute_result"
    }
   ],
   "source": [
    "svm_reg=svm.SVC(gamma = 'auto')\n",
    "svm_reg.fit(x_train,y_train.values.ravel())\n",
    "print('SVM Regression Accuracy (without cross validation): {}'.format(accuracy_score(y_train, svm_reg.predict(x_train))))\n",
    "print('SVM Regression Cross Validation Accuracy: {}'.format(cross_validate_score(svm_reg)))\n",
    "confusion_matrix_model(svm_reg)"
   ]
  },
  {
   "cell_type": "markdown",
   "metadata": {},
   "source": [
    "#### K-Nearest Neighbour Regression\n",
    "K Nearest Neighbour is an algorithm that stores all the available cases and classifies the new data or case based on a similarity measure. It is mostly used to classifies a data point based on how its neighbours are classified."
   ]
  },
  {
   "cell_type": "code",
   "execution_count": 35,
   "metadata": {},
   "outputs": [
    {
     "name": "stdout",
     "output_type": "stream",
     "text": [
      "KNN Regression Accuracy (without cross validation):0.5338113487452095\n",
      "KNN Regression Cross Validation Accuracy: 0.5240434040313796\n"
     ]
    },
    {
     "data": {
      "text/html": [
       "<div>\n",
       "<style scoped>\n",
       "    .dataframe tbody tr th:only-of-type {\n",
       "        vertical-align: middle;\n",
       "    }\n",
       "\n",
       "    .dataframe tbody tr th {\n",
       "        vertical-align: top;\n",
       "    }\n",
       "\n",
       "    .dataframe thead th {\n",
       "        text-align: right;\n",
       "    }\n",
       "</style>\n",
       "<table border=\"1\" class=\"dataframe\">\n",
       "  <thead>\n",
       "    <tr style=\"text-align: right;\">\n",
       "      <th></th>\n",
       "      <th>Predicted Home Win</th>\n",
       "      <th>Predicted Draw</th>\n",
       "      <th>Predicted Away Win</th>\n",
       "    </tr>\n",
       "  </thead>\n",
       "  <tbody>\n",
       "    <tr>\n",
       "      <th>Actual Home Win</th>\n",
       "      <td>3094</td>\n",
       "      <td>120</td>\n",
       "      <td>510</td>\n",
       "    </tr>\n",
       "    <tr>\n",
       "      <th>Actual Draw</th>\n",
       "      <td>1372</td>\n",
       "      <td>144</td>\n",
       "      <td>538</td>\n",
       "    </tr>\n",
       "    <tr>\n",
       "      <th>Actual Away Win</th>\n",
       "      <td>1126</td>\n",
       "      <td>105</td>\n",
       "      <td>1080</td>\n",
       "    </tr>\n",
       "  </tbody>\n",
       "</table>\n",
       "</div>"
      ],
      "text/plain": [
       "                 Predicted Home Win  Predicted Draw  Predicted Away Win\n",
       "Actual Home Win                3094             120                 510\n",
       "Actual Draw                    1372             144                 538\n",
       "Actual Away Win                1126             105                1080"
      ]
     },
     "execution_count": 35,
     "metadata": {},
     "output_type": "execute_result"
    }
   ],
   "source": [
    "KNN = KNeighborsClassifier(n_neighbors=100)\n",
    "KNN.fit(x_train,y_train.values.ravel())\n",
    "print('KNN Regression Accuracy (without cross validation):{}'.format(accuracy_score(y_train, KNN.predict(x_train))))\n",
    "print('KNN Regression Cross Validation Accuracy: {}'.format(cross_validate_score(KNN)))\n",
    "confusion_matrix_model(KNN)"
   ]
  },
  {
   "cell_type": "markdown",
   "metadata": {},
   "source": [
    "Still the predictions are worse than those made by the odds, so still there is no better way of predicting the games."
   ]
  }
 ],
 "metadata": {
  "kernelspec": {
   "display_name": "Python 3",
   "language": "python",
   "name": "python3"
  },
  "language_info": {
   "codemirror_mode": {
    "name": "ipython",
    "version": 3
   },
   "file_extension": ".py",
   "mimetype": "text/x-python",
   "name": "python",
   "nbconvert_exporter": "python",
   "pygments_lexer": "ipython3",
   "version": "3.7.3"
  }
 },
 "nbformat": 4,
 "nbformat_minor": 2
}
